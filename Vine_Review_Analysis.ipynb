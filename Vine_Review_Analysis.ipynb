{
  "nbformat": 4,
  "nbformat_minor": 0,
  "metadata": {
    "colab": {
      "name": "Vine_Review_Analysis.ipynb",
      "provenance": [],
      "collapsed_sections": []
    },
    "kernelspec": {
      "name": "python3",
      "display_name": "Python 3"
    },
    "language_info": {
      "name": "python"
    }
  },
  "cells": [
    {
      "cell_type": "code",
      "execution_count": null,
      "metadata": {
        "colab": {
          "base_uri": "https://localhost:8080/"
        },
        "id": "3WueYLkP90KC",
        "outputId": "e1f745ba-3d27-49f6-975f-df3078a35d3e"
      },
      "outputs": [
        {
          "output_type": "stream",
          "name": "stdout",
          "text": [
            "\r0% [Working]\r            \rGet:1 https://cloud.r-project.org/bin/linux/ubuntu bionic-cran40/ InRelease [3,622 B]\n",
            "Ign:2 https://developer.download.nvidia.com/compute/cuda/repos/ubuntu1804/x86_64  InRelease\n",
            "Hit:3 http://archive.ubuntu.com/ubuntu bionic InRelease\n",
            "Get:4 http://security.ubuntu.com/ubuntu bionic-security InRelease [88.7 kB]\n",
            "Get:5 http://ppa.launchpad.net/c2d4u.team/c2d4u4.0+/ubuntu bionic InRelease [15.9 kB]\n",
            "Ign:6 https://developer.download.nvidia.com/compute/machine-learning/repos/ubuntu1804/x86_64  InRelease\n",
            "Hit:7 https://developer.download.nvidia.com/compute/cuda/repos/ubuntu1804/x86_64  Release\n",
            "Hit:8 https://developer.download.nvidia.com/compute/machine-learning/repos/ubuntu1804/x86_64  Release\n",
            "Get:9 http://archive.ubuntu.com/ubuntu bionic-updates InRelease [88.7 kB]\n",
            "Hit:10 http://ppa.launchpad.net/cran/libgit2/ubuntu bionic InRelease\n",
            "Get:11 http://archive.ubuntu.com/ubuntu bionic-backports InRelease [74.6 kB]\n",
            "Get:12 http://ppa.launchpad.net/deadsnakes/ppa/ubuntu bionic InRelease [15.9 kB]\n",
            "Hit:13 http://ppa.launchpad.net/graphics-drivers/ppa/ubuntu bionic InRelease\n",
            "Get:16 http://ppa.launchpad.net/c2d4u.team/c2d4u4.0+/ubuntu bionic/main Sources [1,947 kB]\n",
            "Get:17 http://security.ubuntu.com/ubuntu bionic-security/universe amd64 Packages [1,490 kB]\n",
            "Get:18 http://ppa.launchpad.net/c2d4u.team/c2d4u4.0+/ubuntu bionic/main amd64 Packages [996 kB]\n",
            "Get:19 http://security.ubuntu.com/ubuntu bionic-security/main amd64 Packages [2,694 kB]\n",
            "Get:20 http://archive.ubuntu.com/ubuntu bionic-updates/universe amd64 Packages [2,268 kB]\n",
            "Get:21 http://ppa.launchpad.net/deadsnakes/ppa/ubuntu bionic/main amd64 Packages [45.3 kB]\n",
            "Get:22 http://archive.ubuntu.com/ubuntu bionic-updates/main amd64 Packages [3,133 kB]\n",
            "Fetched 12.9 MB in 8s (1,542 kB/s)\n",
            "Reading package lists... Done\n"
          ]
        }
      ],
      "source": [
        "import os\n",
        "# Find the latest version of spark 3.0 from http://www.apache.org/dist/spark/ and enter as the spark version\n",
        "# For example:\n",
        "# spark_version = 'spark-3.0.3'\n",
        "spark_version = 'spark-3.0.3'\n",
        "os.environ['SPARK_VERSION']=spark_version\n",
        "\n",
        "# Install Spark and Java\n",
        "!apt-get update\n",
        "!apt-get install openjdk-11-jdk-headless -qq > /dev/null\n",
        "!wget -q http://www.apache.org/dist/spark/$SPARK_VERSION/$SPARK_VERSION-bin-hadoop2.7.tgz\n",
        "!tar xf $SPARK_VERSION-bin-hadoop2.7.tgz\n",
        "!pip install -q findspark\n",
        "\n",
        "# Set Environment Variables\n",
        "import os\n",
        "os.environ[\"JAVA_HOME\"] = \"/usr/lib/jvm/java-11-openjdk-amd64\"\n",
        "os.environ[\"SPARK_HOME\"] = f\"/content/{spark_version}-bin-hadoop2.7\"\n",
        "\n",
        "# Start a SparkSession\n",
        "import findspark\n",
        "findspark.init()"
      ]
    },
    {
      "cell_type": "code",
      "source": [
        "# Download the Postgres driver that will allow Spark to interact with Postgres.\n",
        "!wget https://jdbc.postgresql.org/download/postgresql-42.2.16.jar"
      ],
      "metadata": {
        "colab": {
          "base_uri": "https://localhost:8080/"
        },
        "id": "d-sbk8A5-A_e",
        "outputId": "599baa74-0a40-48c1-e253-157153d49e24"
      },
      "execution_count": null,
      "outputs": [
        {
          "output_type": "stream",
          "name": "stdout",
          "text": [
            "--2022-04-12 18:10:59--  https://jdbc.postgresql.org/download/postgresql-42.2.16.jar\n",
            "Resolving jdbc.postgresql.org (jdbc.postgresql.org)... 72.32.157.228, 2001:4800:3e1:1::228\n",
            "Connecting to jdbc.postgresql.org (jdbc.postgresql.org)|72.32.157.228|:443... connected.\n",
            "HTTP request sent, awaiting response... 200 OK\n",
            "Length: 1002883 (979K) [application/java-archive]\n",
            "Saving to: ‘postgresql-42.2.16.jar’\n",
            "\n",
            "postgresql-42.2.16. 100%[===================>] 979.38K  --.-KB/s    in 0.09s   \n",
            "\n",
            "2022-04-12 18:10:59 (11.0 MB/s) - ‘postgresql-42.2.16.jar’ saved [1002883/1002883]\n",
            "\n"
          ]
        }
      ]
    },
    {
      "cell_type": "code",
      "source": [
        "from pyspark.sql import SparkSession\n",
        "spark = SparkSession.builder.appName(\"M16-Amazon-Challenge\").config(\"spark.driver.extraClassPath\",\"/content/postgresql-42.2.16.jar\").getOrCreate()"
      ],
      "metadata": {
        "id": "uyiG_YS_-EWb"
      },
      "execution_count": null,
      "outputs": []
    },
    {
      "cell_type": "code",
      "source": [
        "from pyspark import SparkFiles\n",
        "url = \"https://s3.amazonaws.com/amazon-reviews-pds/tsv/amazon_reviews_us_Baby_v1_00.tsv.gz\"\n",
        "spark.sparkContext.addFile(url)\n",
        "df = spark.read.csv(SparkFiles.get(\"amazon_reviews_us_Baby_v1_00.tsv.gz\"), sep=\"\\t\", header=True, inferSchema=True)\n",
        "df.show()"
      ],
      "metadata": {
        "colab": {
          "base_uri": "https://localhost:8080/"
        },
        "id": "5z2YF_yh-FlW",
        "outputId": "63cac3de-9c4f-45f4-9ec3-ff08b54f5ff3"
      },
      "execution_count": null,
      "outputs": [
        {
          "output_type": "stream",
          "name": "stdout",
          "text": [
            "+-----------+-----------+--------------+----------+--------------+--------------------+----------------+-----------+-------------+-----------+----+-----------------+--------------------+--------------------+-----------+\n",
            "|marketplace|customer_id|     review_id|product_id|product_parent|       product_title|product_category|star_rating|helpful_votes|total_votes|vine|verified_purchase|     review_headline|         review_body|review_date|\n",
            "+-----------+-----------+--------------+----------+--------------+--------------------+----------------+-----------+-------------+-----------+----+-----------------+--------------------+--------------------+-----------+\n",
            "|         US|    9970739| R8EWA1OFT84NX|B00GSP5D94|     329991347|Summer Infant Swa...|            Baby|          5|            0|          0|   N|                Y|Great swaddled bl...|Loved these swadd...| 2015-08-31|\n",
            "|         US|   23538442|R2JWY4YRQD4FOP|B00YYDDZGU|     646108902|Pacifier Clip Gir...|            Baby|          5|            0|          0|   N|                N|Too cute and real...|These are adorabl...| 2015-08-31|\n",
            "|         US|    8273344| RL5ESX231LZ0B|B00BUBNZC8|     642922361|Udder Covers - Br...|            Baby|          5|            0|          0|   N|                Y|          Five Stars|          Great gift| 2015-08-31|\n",
            "|         US|   24557753| RRMS9ZWJ2KD08|B00AWLZFTS|     494272733|Gerber Graduates ...|            Baby|          5|            0|          0|   N|                Y|Cute; wash up nic...|These forks are g...| 2015-08-31|\n",
            "|         US|   46263340|R14I3ZG5E6S7YM|B00KM60D3Q|     305813185|Summer Infant Ult...|            Baby|          5|            0|          0|   N|                Y|            Love it!|I wanted somethin...| 2015-08-31|\n",
            "|         US|   24557753|R13EPSFP5DODN5|B00PQMRZG4|     607341708|Summer Infant Kee...|            Baby|          4|            0|          0|   N|                Y|        Rips easily.|Loved with daught...| 2015-08-31|\n",
            "|         US|   33520065| R6RBP4HTE67SY|B005DL5970|     971881542|Natural HE Powder...|            Baby|          5|            0|          0|   N|                Y|Cloth Diaper Dete...|This is a great d...| 2015-08-31|\n",
            "|         US|   20241560|R15B3EU40RSU2W|B00C6D2WL4|      93827401|Dr. Brown's Bottl...|            Baby|          5|            0|          0|   N|                Y|          Five Stars|                good| 2015-08-31|\n",
            "|         US|    9987983| RP4DD53A4ZJA2|B0083973FK|     958629336|Sposie Booster Pa...|            Baby|          5|            0|          0|   N|                Y|          Five Stars|With these my mil...| 2015-08-31|\n",
            "|         US|   52570308|R2C99DJEO4RZ4K|B00RLYG2S2|     147324304|Abiie Beyond Wood...|            Baby|          5|            3|          4|   N|                Y|So far I love thi...|So far I love thi...| 2015-08-31|\n",
            "|         US|    9287389| REV51EW323H8W|B010UX9T5I|     446691106|Lovinglove Baby G...|            Baby|          5|            0|          0|   N|                Y|          Five Stars|           Love them| 2015-08-31|\n",
            "|         US|   32840762|R2GQ3W03WIUZKE|B00VWBY7SC|     271204734|Bugzi Stroller Ho...|            Baby|          5|            0|          0|   N|                Y|Love these hooks ...|Love these hooks ...| 2015-08-31|\n",
            "|         US|    7797182| RTI1YI7K6GE3D|B006ZBPH24|      67911244|Born Free 5 oz. B...|            Baby|          5|            0|          0|   N|                Y|          Five Stars|           very good| 2015-08-31|\n",
            "|         US|   14788115|R3V9C2C0SPSZU6|B00UGV8BEU|     613360092|Baby Bandana Bibs...|            Baby|          5|            0|          0|   N|                Y|            Perfect!|Love these bibs! ...| 2015-08-31|\n",
            "|         US|   37909065|R1LB42XCSSCLV6|B005BIOOYO|     527977399|Flip Stay-Dry Ins...|            Baby|          5|            0|          0|   N|                Y|best inserts for ...|I love these. The...| 2015-08-31|\n",
            "|         US|   15935520|R113NWCW6STTMC|B0071D1AKI|     634188771|Aqueduck The ORIG...|            Baby|          5|            0|          0|   N|                Y|        Very Helpful|This worked exact...| 2015-08-31|\n",
            "|         US|   16308044| RWRN5XK337N41|B00M2F0OYS|     166133791|Motorola Baby Mon...|            Baby|          1|            0|          0|   N|                N|Very Dissapointed...|I am so disappoin...| 2015-08-31|\n",
            "|         US|    8168178| RF4WL3QEP3PVI|B00QCBD5AS|     294351494|Minnie Mouse Delu...|            Baby|          1|            0|          0|   N|                Y|            One Star|Ordered minnie mo...| 2015-08-31|\n",
            "|         US|   23299101|R2DRL5NRODVQ3Z|B00SN6F9NG|       3470998|Rhoost Nail Clipp...|            Baby|          5|            2|          2|   N|                Y|If fits so comfor...|This is an absolu...| 2015-08-31|\n",
            "|         US|   14261025|R3T9B92MDDHKMM|B00J0YTS1E|     488640919|My Natural Owl Mu...|            Baby|          2|            5|          5|   N|                Y|Used to be great....|They changed the ...| 2015-08-31|\n",
            "+-----------+-----------+--------------+----------+--------------+--------------------+----------------+-----------+-------------+-----------+----+-----------------+--------------------+--------------------+-----------+\n",
            "only showing top 20 rows\n",
            "\n"
          ]
        }
      ]
    },
    {
      "cell_type": "code",
      "source": [
        "# Step 1: Filter the data and create a new DataFrame or table where the total_votes is equal to or greater than 20\n",
        "vine_df = df.select([\"review_id\",\"star_rating\",\"helpful_votes\",\"total_votes\",\"vine\",\"verified_purchase\"])\n",
        "vine_filtered_votes_df = vine_df.filter(\"total_votes >= 20\")\n",
        "vine_filtered_votes_df.show()"
      ],
      "metadata": {
        "colab": {
          "base_uri": "https://localhost:8080/"
        },
        "id": "ItGQccKQ-IAF",
        "outputId": "37a21afe-294c-43a0-9c94-1340be1eadee"
      },
      "execution_count": null,
      "outputs": [
        {
          "output_type": "stream",
          "name": "stdout",
          "text": [
            "+--------------+-----------+-------------+-----------+----+-----------------+\n",
            "|     review_id|star_rating|helpful_votes|total_votes|vine|verified_purchase|\n",
            "+--------------+-----------+-------------+-----------+----+-----------------+\n",
            "| ROI00QN8IS49I|          5|           83|         91|   N|                N|\n",
            "|R13C5INE1RTZP6|          2|           26|         26|   N|                Y|\n",
            "| RXVMMXCL67MZN|          4|          378|        383|   N|                Y|\n",
            "|R33JJQWAUYBKD3|          5|          270|        280|   N|                Y|\n",
            "|R3N0XV9267NOXV|          5|           41|         47|   Y|                N|\n",
            "|R31HQD6YXSQV1W|          3|           40|         48|   N|                Y|\n",
            "|R33LQSF958O6K8|          5|           39|         41|   N|                Y|\n",
            "|R3OIDSQJ84W7J1|          5|           21|         24|   N|                N|\n",
            "|R3UUR313K5VVTL|          1|            1|         24|   N|                Y|\n",
            "| RODE8K12S7148|          5|           41|         45|   N|                Y|\n",
            "|R2QZFYFUKP22SP|          5|           33|         37|   N|                Y|\n",
            "| RFON10GAZKDL3|          3|           16|         20|   N|                Y|\n",
            "|R2UXKAUFMPE0PJ|          1|           29|         29|   N|                N|\n",
            "|R20YYYGIRVB7F1|          1|           32|         41|   N|                N|\n",
            "|R36065K853ACRA|          3|           28|         34|   N|                Y|\n",
            "| RBS6RYHXL83L8|          5|           49|         57|   N|                Y|\n",
            "|R2D5JAVXATJOQB|          4|           45|         48|   N|                Y|\n",
            "|R1SUS9Y51N3QO8|          1|           42|         46|   N|                N|\n",
            "|R3DKDS7674IU4Z|          5|           29|         31|   N|                N|\n",
            "|R3VER1GSR74AHB|          4|           38|         39|   N|                Y|\n",
            "+--------------+-----------+-------------+-----------+----+-----------------+\n",
            "only showing top 20 rows\n",
            "\n"
          ]
        }
      ]
    },
    {
      "cell_type": "code",
      "source": [
        "# Step 2: Filter vine_filtered_votes_df retrieve all the rows where the number of helpful_votes divided by total_votes is equal to or greater than 50%\n",
        "vine_helpful_votes_df = vine_filtered_votes_df.filter(\"(helpful_votes/total_votes)>=0.5\")\n",
        "vine_helpful_votes_df.show()\n"
      ],
      "metadata": {
        "colab": {
          "base_uri": "https://localhost:8080/"
        },
        "id": "8xLE3Je_-Pf7",
        "outputId": "4d7e5e4b-1619-4bcd-b16f-96904778354f"
      },
      "execution_count": null,
      "outputs": [
        {
          "output_type": "stream",
          "name": "stdout",
          "text": [
            "+--------------+-----------+-------------+-----------+----+-----------------+\n",
            "|     review_id|star_rating|helpful_votes|total_votes|vine|verified_purchase|\n",
            "+--------------+-----------+-------------+-----------+----+-----------------+\n",
            "| ROI00QN8IS49I|          5|           83|         91|   N|                N|\n",
            "|R13C5INE1RTZP6|          2|           26|         26|   N|                Y|\n",
            "| RXVMMXCL67MZN|          4|          378|        383|   N|                Y|\n",
            "|R33JJQWAUYBKD3|          5|          270|        280|   N|                Y|\n",
            "|R3N0XV9267NOXV|          5|           41|         47|   Y|                N|\n",
            "|R31HQD6YXSQV1W|          3|           40|         48|   N|                Y|\n",
            "|R33LQSF958O6K8|          5|           39|         41|   N|                Y|\n",
            "|R3OIDSQJ84W7J1|          5|           21|         24|   N|                N|\n",
            "| RODE8K12S7148|          5|           41|         45|   N|                Y|\n",
            "|R2QZFYFUKP22SP|          5|           33|         37|   N|                Y|\n",
            "| RFON10GAZKDL3|          3|           16|         20|   N|                Y|\n",
            "|R2UXKAUFMPE0PJ|          1|           29|         29|   N|                N|\n",
            "|R20YYYGIRVB7F1|          1|           32|         41|   N|                N|\n",
            "|R36065K853ACRA|          3|           28|         34|   N|                Y|\n",
            "| RBS6RYHXL83L8|          5|           49|         57|   N|                Y|\n",
            "|R2D5JAVXATJOQB|          4|           45|         48|   N|                Y|\n",
            "|R1SUS9Y51N3QO8|          1|           42|         46|   N|                N|\n",
            "|R3DKDS7674IU4Z|          5|           29|         31|   N|                N|\n",
            "|R3VER1GSR74AHB|          4|           38|         39|   N|                Y|\n",
            "| R4KKILPJRQ2J5|          1|           12|         20|   N|                Y|\n",
            "+--------------+-----------+-------------+-----------+----+-----------------+\n",
            "only showing top 20 rows\n",
            "\n"
          ]
        }
      ]
    },
    {
      "cell_type": "code",
      "source": [
        "# Step 3: Filter vine_helpful_votes_df and retrieve all the rows where a review was written as part of the Vine program (paid)\n",
        "vine_paid_helpful_df = vine_helpful_votes_df.filter(\"vine == 'Y'\")\n",
        "vine_paid_helpful_df.show()"
      ],
      "metadata": {
        "colab": {
          "base_uri": "https://localhost:8080/"
        },
        "id": "kXmHwfos-Rm4",
        "outputId": "7e42c479-012c-4597-b25a-dc71fb71f9c3"
      },
      "execution_count": null,
      "outputs": [
        {
          "output_type": "stream",
          "name": "stdout",
          "text": [
            "+--------------+-----------+-------------+-----------+----+-----------------+\n",
            "|     review_id|star_rating|helpful_votes|total_votes|vine|verified_purchase|\n",
            "+--------------+-----------+-------------+-----------+----+-----------------+\n",
            "|R3N0XV9267NOXV|          5|           41|         47|   Y|                N|\n",
            "| RSA6JQ346JZHZ|          5|           55|         64|   Y|                Y|\n",
            "|R1FXF4HRMCLG4C|          5|           69|         84|   Y|                N|\n",
            "| RCTBWC3II42MG|          4|          113|        117|   Y|                N|\n",
            "| RTMQM2CQ1XIZ0|          5|           21|         25|   Y|                N|\n",
            "|R2CBJLCKQ612KU|          4|           27|         35|   Y|                N|\n",
            "|R322QDGO4AV2B5|          5|           55|         65|   Y|                N|\n",
            "| R2S7CXRDGQ6EE|          4|           36|         39|   Y|                N|\n",
            "|R3ECMXK0SGR1VV|          5|           59|         64|   Y|                N|\n",
            "|R3D55CPJ6J6Z78|          4|           15|         20|   Y|                N|\n",
            "|R1Y9OYIUCP3WD2|          4|           20|         20|   Y|                N|\n",
            "| RT8AV0IB2PGHH|          4|          108|        132|   Y|                N|\n",
            "|R2RLHJRJD9B0NX|          3|           44|         47|   Y|                N|\n",
            "| RAPD7IX0LPZ10|          4|           36|         37|   Y|                N|\n",
            "|R37QPCBNR07PPR|          1|           22|         27|   Y|                N|\n",
            "|R3BRFPK8N59XPY|          5|          364|        395|   Y|                N|\n",
            "|R1WE59I775L7L9|          4|           31|         33|   Y|                N|\n",
            "| RO8IGQJV1PKCJ|          5|           78|         84|   Y|                N|\n",
            "| RWZDJT9MQP6A4|          5|           86|         97|   Y|                N|\n",
            "|R2VDXEVKFSJU36|          5|           20|         22|   Y|                N|\n",
            "+--------------+-----------+-------------+-----------+----+-----------------+\n",
            "only showing top 20 rows\n",
            "\n"
          ]
        }
      ]
    },
    {
      "cell_type": "code",
      "source": [
        "# Step 4: Filter vine_helpful_votes_df and retrieve all the rows where a review was not written as part of the Vine program (unpaid)\n",
        "vine_unpaid_helpful_df = vine_helpful_votes_df.filter(\"vine == 'N'\")\n",
        "vine_unpaid_helpful_df.show()\n"
      ],
      "metadata": {
        "colab": {
          "base_uri": "https://localhost:8080/"
        },
        "id": "u0PrVhmI-SZf",
        "outputId": "c8bf38b6-1acb-4cbd-931b-c9c3290c558c"
      },
      "execution_count": null,
      "outputs": [
        {
          "output_type": "stream",
          "name": "stdout",
          "text": [
            "+--------------+-----------+-------------+-----------+----+-----------------+\n",
            "|     review_id|star_rating|helpful_votes|total_votes|vine|verified_purchase|\n",
            "+--------------+-----------+-------------+-----------+----+-----------------+\n",
            "| ROI00QN8IS49I|          5|           83|         91|   N|                N|\n",
            "|R13C5INE1RTZP6|          2|           26|         26|   N|                Y|\n",
            "| RXVMMXCL67MZN|          4|          378|        383|   N|                Y|\n",
            "|R33JJQWAUYBKD3|          5|          270|        280|   N|                Y|\n",
            "|R31HQD6YXSQV1W|          3|           40|         48|   N|                Y|\n",
            "|R33LQSF958O6K8|          5|           39|         41|   N|                Y|\n",
            "|R3OIDSQJ84W7J1|          5|           21|         24|   N|                N|\n",
            "| RODE8K12S7148|          5|           41|         45|   N|                Y|\n",
            "|R2QZFYFUKP22SP|          5|           33|         37|   N|                Y|\n",
            "| RFON10GAZKDL3|          3|           16|         20|   N|                Y|\n",
            "|R2UXKAUFMPE0PJ|          1|           29|         29|   N|                N|\n",
            "|R20YYYGIRVB7F1|          1|           32|         41|   N|                N|\n",
            "|R36065K853ACRA|          3|           28|         34|   N|                Y|\n",
            "| RBS6RYHXL83L8|          5|           49|         57|   N|                Y|\n",
            "|R2D5JAVXATJOQB|          4|           45|         48|   N|                Y|\n",
            "|R1SUS9Y51N3QO8|          1|           42|         46|   N|                N|\n",
            "|R3DKDS7674IU4Z|          5|           29|         31|   N|                N|\n",
            "|R3VER1GSR74AHB|          4|           38|         39|   N|                Y|\n",
            "| R4KKILPJRQ2J5|          1|           12|         20|   N|                Y|\n",
            "| RE1XO71W5US5S|          1|           28|         30|   N|                Y|\n",
            "+--------------+-----------+-------------+-----------+----+-----------------+\n",
            "only showing top 20 rows\n",
            "\n"
          ]
        }
      ]
    },
    {
      "cell_type": "code",
      "source": [
        "# Step 5.1: Determine the total number of helpful reviews\n",
        "total_reviews = vine_helpful_votes_df.count()\n",
        "total_reviews\n",
        "\n"
      ],
      "metadata": {
        "colab": {
          "base_uri": "https://localhost:8080/"
        },
        "id": "y859mi_A-USS",
        "outputId": "3137b6ad-c08e-4eb2-bbd4-066b99a437e4"
      },
      "execution_count": null,
      "outputs": [
        {
          "output_type": "execute_result",
          "data": {
            "text/plain": [
              "25557"
            ]
          },
          "metadata": {},
          "execution_count": 9
        }
      ]
    },
    {
      "cell_type": "code",
      "source": [
        "# Total paid reviews\n",
        "total_paid_reviews_df = vine_helpful_votes_df.filter(\"vine =='Y'\")\n",
        "total_paid_reviews = total_paid_reviews_df.count()\n",
        "total_paid_reviews\n",
        "\n"
      ],
      "metadata": {
        "colab": {
          "base_uri": "https://localhost:8080/"
        },
        "id": "ahzdjsUf-WpY",
        "outputId": "5f6739b2-1b62-4b41-8ed4-38e634dc1baa"
      },
      "execution_count": null,
      "outputs": [
        {
          "output_type": "execute_result",
          "data": {
            "text/plain": [
              "463"
            ]
          },
          "metadata": {},
          "execution_count": 10
        }
      ]
    },
    {
      "cell_type": "code",
      "source": [
        "# Total unpaid reviews\n",
        "total_unpaid_reviews_df = vine_helpful_votes_df.filter(\"vine =='N'\")\n",
        "total_unpaid_reviews = total_unpaid_reviews_df.count()\n",
        "total_unpaid_reviews\n"
      ],
      "metadata": {
        "colab": {
          "base_uri": "https://localhost:8080/"
        },
        "id": "f0zTzlCo-c8r",
        "outputId": "06b67a22-ff95-47bc-fef9-8a6c8fd9829a"
      },
      "execution_count": null,
      "outputs": [
        {
          "output_type": "execute_result",
          "data": {
            "text/plain": [
              "25094"
            ]
          },
          "metadata": {},
          "execution_count": 12
        }
      ]
    },
    {
      "cell_type": "code",
      "source": [
        "# Step 5.2: Determine the number of 5-star reviews\n",
        "total_five_star_reviews_df = vine_helpful_votes_df.filter(\"star_rating == 5\")\n",
        "total_five_star_reviews = total_five_star_reviews_df.count()\n",
        "total_five_star_reviews"
      ],
      "metadata": {
        "colab": {
          "base_uri": "https://localhost:8080/"
        },
        "id": "K--6_TMa-dwP",
        "outputId": "4231e126-23be-424b-e319-37a61de4f90d"
      },
      "execution_count": null,
      "outputs": [
        {
          "output_type": "execute_result",
          "data": {
            "text/plain": [
              "12235"
            ]
          },
          "metadata": {},
          "execution_count": 13
        }
      ]
    },
    {
      "cell_type": "code",
      "source": [
        "# Step 5.3: Determine the percentage of 5-star reviews for the two types of review (paid vs unpaid)\n",
        "total_paid_five_star_reviews_df = total_five_star_reviews_df.filter(\"vine =='Y'\")\n",
        "total_paid_five_star_reviews = total_paid_five_star_reviews_df.count()\n",
        "total_paid_five_star_reviews"
      ],
      "metadata": {
        "colab": {
          "base_uri": "https://localhost:8080/"
        },
        "id": "mk61x7t9-fpo",
        "outputId": "876dde52-b688-42f9-eb69-ed2305edc554"
      },
      "execution_count": null,
      "outputs": [
        {
          "output_type": "execute_result",
          "data": {
            "text/plain": [
              "202"
            ]
          },
          "metadata": {},
          "execution_count": 14
        }
      ]
    },
    {
      "cell_type": "code",
      "source": [
        "total_unpaid_five_star_reviews_df = total_five_star_reviews_df.filter(\"vine =='N'\")\n",
        "total_unpaid_five_star_reviews = total_unpaid_five_star_reviews_df.count()\n",
        "total_unpaid_five_star_reviews\n",
        "\n"
      ],
      "metadata": {
        "colab": {
          "base_uri": "https://localhost:8080/"
        },
        "id": "-paZhMVB-hMW",
        "outputId": "eb5857b5-09aa-4146-d7ed-d082012f7db7"
      },
      "execution_count": null,
      "outputs": [
        {
          "output_type": "execute_result",
          "data": {
            "text/plain": [
              "12033"
            ]
          },
          "metadata": {},
          "execution_count": 15
        }
      ]
    },
    {
      "cell_type": "code",
      "source": [
        "# Five-star paid reviews as percent of total paid reviews\n",
        "unpaid_five_star_per_total_paid = (total_paid_five_star_reviews/total_paid_reviews)*100\n",
        "unpaid_five_star_per_total_paid"
      ],
      "metadata": {
        "colab": {
          "base_uri": "https://localhost:8080/"
        },
        "id": "ZhLkaX7m-jg5",
        "outputId": "2aea31c9-6303-4204-9807-78dd44996316"
      },
      "execution_count": null,
      "outputs": [
        {
          "output_type": "execute_result",
          "data": {
            "text/plain": [
              "43.628509719222464"
            ]
          },
          "metadata": {},
          "execution_count": 16
        }
      ]
    },
    {
      "cell_type": "code",
      "source": [
        "# Paid reviews as percent of total 5-star reviews\n",
        "paid_reviews_per_five_star_review = (total_paid_five_star_reviews/total_five_star_reviews)*100\n",
        "paid_reviews_per_five_star_review\n"
      ],
      "metadata": {
        "colab": {
          "base_uri": "https://localhost:8080/"
        },
        "id": "tHuRa0aG-l3b",
        "outputId": "468b3bac-8195-44c3-c112-4c531576f0da"
      },
      "execution_count": null,
      "outputs": [
        {
          "output_type": "execute_result",
          "data": {
            "text/plain": [
              "1.6510012259910094"
            ]
          },
          "metadata": {},
          "execution_count": 17
        }
      ]
    },
    {
      "cell_type": "code",
      "source": [
        "# Unpaid reviews as percent of total 5-star reviews\n",
        "unpaid_reviews_per_five_star_review = (total_unpaid_five_star_reviews/total_five_star_reviews)*100\n",
        "unpaid_reviews_per_five_star_review"
      ],
      "metadata": {
        "colab": {
          "base_uri": "https://localhost:8080/"
        },
        "id": "uw6LWoJa-nm7",
        "outputId": "fe888010-8759-4bf0-9f64-326cb9ab8fe4"
      },
      "execution_count": null,
      "outputs": [
        {
          "output_type": "execute_result",
          "data": {
            "text/plain": [
              "98.34899877400899"
            ]
          },
          "metadata": {},
          "execution_count": 18
        }
      ]
    }
  ]
}